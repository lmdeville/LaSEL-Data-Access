{
 "cells": [
  {
   "cell_type": "markdown",
   "id": "eaa0c35a-820a-4a3a-862f-814c10ca386c",
   "metadata": {},
   "source": [
    "# SQL Query & DB formatting for Ignition\n",
    " @author Lelia Deville \\\n",
    " @date   12/1/23"
   ]
  },
  {
   "cell_type": "code",
   "execution_count": 1,
   "id": "886bad64-2167-456e-9bff-b4090c75982d",
   "metadata": {},
   "outputs": [],
   "source": [
    "import pandas as pd\n",
    "import pypyodbc as odbc\n",
    "import numpy as np\n",
    "import matplotlib.pyplot as plt\n",
    "from datetime import datetime, timedelta"
   ]
  },
  {
   "cell_type": "code",
   "execution_count": 2,
   "id": "ed9f0321-e828-48b9-ba88-3d17ec5621a6",
   "metadata": {},
   "outputs": [],
   "source": [
    "\"\"\"\n",
    "defining all the basic parameters\n",
    "these are likely subject to change as the data collection methods change and grow\n",
    "\"\"\"\n",
    "\n",
    "DRIVER_NAME = 'SQL Server'\n",
    "SERVER_NAME = 'PARTLABHMI'\n",
    "DATABASE_NAME = 'EI'\n",
    "\n",
    "connection_string = f\"\"\"\n",
    "    DRIVER={{{DRIVER_NAME}}};\n",
    "    SERVER={SERVER_NAME};\n",
    "    DATABASE={DATABASE_NAME};\n",
    "    Trust_Connection =yes;\n",
    "    uid=GradStudent;\n",
    "    pwd=1000W/m2;\n",
    "\"\"\"\n",
    "conn = odbc.connect(connection_string)"
   ]
  },
  {
   "cell_type": "code",
   "execution_count": 3,
   "id": "0fa7ea24-d1fc-4536-91dd-d974bfa49734",
   "metadata": {},
   "outputs": [],
   "source": [
    "\"\"\"\n",
    "creating cursor to query data from the database\n",
    "a cursor is an object that is stored and used to read over rows of data in a database\n",
    "\"\"\"\n",
    "lasel_cursor = conn.cursor()"
   ]
  },
  {
   "cell_type": "code",
   "execution_count": 4,
   "id": "e6fe788a-c24d-4009-bc39-4f93dff42024",
   "metadata": {},
   "outputs": [
    {
     "data": {
      "text/plain": [
       "['aa_sql_objects',\n",
       " 'affected_overview_symbols',\n",
       " 'alarm_message_defaults',\n",
       " 'alarm_message_timestamps',\n",
       " 'alarm_message_translations',\n",
       " 'alarm_messages',\n",
       " 'attribute_definition',\n",
       " 'attribute_reference',\n",
       " 'attributes_translation_table',\n",
       " 'autobind_device']"
      ]
     },
     "execution_count": 4,
     "metadata": {},
     "output_type": "execute_result"
    }
   ],
   "source": [
    "\"\"\"\n",
    "look at what tables exist and which ones may be of interest\n",
    "here we just print the first ten; to view all tables in a database use print(tables)\n",
    "\"\"\"\n",
    "tables = []\n",
    "for row in lasel_cursor.tables():\n",
    "    tables.append(row['table_name'])\n",
    "tables[0:10]"
   ]
  },
  {
   "cell_type": "code",
   "execution_count": 6,
   "id": "62854a0e-d124-4bf6-a6b1-a609ab51f314",
   "metadata": {},
   "outputs": [],
   "source": [
    "# # The LNDB doesn't have tag ids but the columns are already labeled properly\n",
    "\n",
    "# \"\"\"\n",
    "# # sqlth_te is the table that has all of the tag id & descriptions\n",
    "# # using these lines, we take the numerical tag ids and match them with their descriptions,\n",
    "# # so later when we import a lot of datapoints we can easily rename the numerical tag ids with their description\n",
    "# # \"\"\"\n",
    "# # lasel_cursor.execute('SELECT * FROM dbo.sqlth_te')\n",
    "# # tag_id = []\n",
    "# # for row in lasel_cursor:\n",
    "# #     tag_id.append(row)\n",
    "# # tag_id = pd.DataFrame(tag_id, columns=['tag','description','scid','datatype','querymode','created','retired'])"
   ]
  },
  {
   "cell_type": "code",
   "execution_count": 44,
   "id": "f0bda596-9cf3-4f61-9dd0-6c739d1157f4",
   "metadata": {},
   "outputs": [
    {
     "data": {
      "text/plain": [
       "list"
      ]
     },
     "execution_count": 44,
     "metadata": {},
     "output_type": "execute_result"
    }
   ],
   "source": [
    "type(field_names)"
   ]
  },
  {
   "cell_type": "code",
   "execution_count": 67,
   "id": "9bfb4952-7161-4e27-ad0d-55e1cb7b7a72",
   "metadata": {},
   "outputs": [],
   "source": []
  },
  {
   "cell_type": "code",
   "execution_count": 62,
   "id": "9d9f9b43-8072-4d90-b39a-643921820ec0",
   "metadata": {},
   "outputs": [],
   "source": [
    "i = lasel_cursor.description"
   ]
  },
  {
   "cell_type": "code",
   "execution_count": 76,
   "id": "571c2504-f5d3-4a42-a27a-55e9d1152cf0",
   "metadata": {},
   "outputs": [
    {
     "data": {
      "text/plain": [
       "[('tmstamp', str, 27, 27, 27, 0, False),\n",
       " ('recnum', int, 20, 19, 19, 0, False),\n",
       " ('bp_mbar_avg', float, 14, 24, 24, 0, True),\n",
       " ('rain_mm_tot', float, 14, 24, 24, 0, True),\n",
       " ('winddir', float, 14, 24, 24, 0, True),\n",
       " ('ws_ms_avg', float, 14, 24, 24, 0, True),\n",
       " ('ws_ms_max', float, 14, 24, 24, 0, True),\n",
       " ('ws_ms_tmx', datetime.datetime, 23, 23, 23, 3, True),\n",
       " ('airtc_avg', float, 14, 24, 24, 0, True),\n",
       " ('rh', float, 14, 24, 24, 0, True),\n",
       " ('diffused_avg', float, 14, 24, 24, 0, True),\n",
       " ('dni_avg', float, 14, 24, 24, 0, True),\n",
       " ('global_avg', float, 14, 24, 24, 0, True),\n",
       " ('poa_avg', float, 14, 24, 24, 0, True),\n",
       " ('cmp10poa_avg', float, 14, 24, 24, 0, True),\n",
       " ('cmp10_2_poa_avg', float, 14, 24, 24, 0, True)]"
      ]
     },
     "execution_count": 76,
     "metadata": {},
     "output_type": "execute_result"
    }
   ],
   "source": [
    "lasel_cursor.description"
   ]
  },
  {
   "cell_type": "code",
   "execution_count": 75,
   "id": "4910bc45-be61-40af-9839-b3a584f86be4",
   "metadata": {},
   "outputs": [
    {
     "data": {
      "text/plain": [
       "array([ 0,  1,  2,  3,  4,  5,  6,  7,  8,  9, 10, 11, 12, 13, 14, 15])"
      ]
     },
     "execution_count": 75,
     "metadata": {},
     "output_type": "execute_result"
    }
   ],
   "source": [
    "np.arange(0,len(lasel_cursor.description))"
   ]
  },
  {
   "cell_type": "code",
   "execution_count": 72,
   "id": "cc8b9ef1-5434-49f1-a374-fb2d5c10d7f0",
   "metadata": {},
   "outputs": [
    {
     "data": {
      "text/plain": [
       "[('cmp10_2_poa_avg', float, 14, 24, 24, 0, True),\n",
       " ('recnum', int, 20, 19, 19, 0, False),\n",
       " ('bp_mbar_avg', float, 14, 24, 24, 0, True),\n",
       " ('rain_mm_tot', float, 14, 24, 24, 0, True),\n",
       " ('winddir', float, 14, 24, 24, 0, True),\n",
       " ('ws_ms_avg', float, 14, 24, 24, 0, True),\n",
       " ('ws_ms_max', float, 14, 24, 24, 0, True),\n",
       " ('ws_ms_tmx', datetime.datetime, 23, 23, 23, 3, True),\n",
       " ('airtc_avg', float, 14, 24, 24, 0, True),\n",
       " ('rh', float, 14, 24, 24, 0, True),\n",
       " ('diffused_avg', float, 14, 24, 24, 0, True),\n",
       " ('dni_avg', float, 14, 24, 24, 0, True),\n",
       " ('global_avg', float, 14, 24, 24, 0, True),\n",
       " ('poa_avg', float, 14, 24, 24, 0, True),\n",
       " ('cmp10poa_avg', float, 14, 24, 24, 0, True),\n",
       " ('cmp10_2_poa_avg', float, 14, 24, 24, 0, True)]"
      ]
     },
     "execution_count": 72,
     "metadata": {},
     "output_type": "execute_result"
    }
   ],
   "source": [
    "lasel_cursor.description"
   ]
  },
  {
   "cell_type": "code",
   "execution_count": 77,
   "id": "f1e041f2-50e6-444a-b933-dc83270dfd33",
   "metadata": {},
   "outputs": [
    {
     "data": {
      "text/plain": [
       "['tmstamp',\n",
       " 'recnum',\n",
       " 'bp_mbar_avg',\n",
       " 'rain_mm_tot',\n",
       " 'winddir',\n",
       " 'ws_ms_avg',\n",
       " 'ws_ms_max',\n",
       " 'ws_ms_tmx',\n",
       " 'airtc_avg',\n",
       " 'rh',\n",
       " 'diffused_avg',\n",
       " 'dni_avg',\n",
       " 'global_avg',\n",
       " 'poa_avg',\n",
       " 'cmp10poa_avg',\n",
       " 'cmp10_2_poa_avg']"
      ]
     },
     "execution_count": 77,
     "metadata": {},
     "output_type": "execute_result"
    }
   ],
   "source": []
  },
  {
   "cell_type": "code",
   "execution_count": 74,
   "id": "ea8cbbdb-4383-4fce-b84a-2a14cc0c8267",
   "metadata": {},
   "outputs": [
    {
     "data": {
      "text/plain": [
       "MultiIndex([(        'tmstamp',),\n",
       "            (         'recnum',),\n",
       "            (    'bp_mbar_avg',),\n",
       "            (    'rain_mm_tot',),\n",
       "            (        'winddir',),\n",
       "            (      'ws_ms_avg',),\n",
       "            (      'ws_ms_max',),\n",
       "            (      'ws_ms_tmx',),\n",
       "            (      'airtc_avg',),\n",
       "            (             'rh',),\n",
       "            (   'diffused_avg',),\n",
       "            (        'dni_avg',),\n",
       "            (     'global_avg',),\n",
       "            (        'poa_avg',),\n",
       "            (   'cmp10poa_avg',),\n",
       "            ('cmp10_2_poa_avg',)],\n",
       "           )"
      ]
     },
     "execution_count": 74,
     "metadata": {},
     "output_type": "execute_result"
    }
   ],
   "source": [
    "df.columns"
   ]
  },
  {
   "cell_type": "code",
   "execution_count": 57,
   "id": "80279a44-bbf4-4ea2-aba8-ace209e13e12",
   "metadata": {},
   "outputs": [],
   "source": [
    "df = df.reset_index(level=[0,0])"
   ]
  },
  {
   "cell_type": "code",
   "execution_count": 106,
   "id": "d16526b9-eb25-4911-9725-7943002073e0",
   "metadata": {},
   "outputs": [
    {
     "data": {
      "text/html": [
       "<div>\n",
       "<style scoped>\n",
       "    .dataframe tbody tr th:only-of-type {\n",
       "        vertical-align: middle;\n",
       "    }\n",
       "\n",
       "    .dataframe tbody tr th {\n",
       "        vertical-align: top;\n",
       "    }\n",
       "\n",
       "    .dataframe thead th {\n",
       "        text-align: right;\n",
       "    }\n",
       "</style>\n",
       "<table border=\"1\" class=\"dataframe\">\n",
       "  <thead>\n",
       "    <tr style=\"text-align: right;\">\n",
       "      <th></th>\n",
       "      <th>recnum</th>\n",
       "      <th>bom_temp_c_avg</th>\n",
       "      <th>inv_dc_power_string01_avg_1</th>\n",
       "      <th>inv_dc_power_string01_avg_2</th>\n",
       "      <th>inv_dc_power_string01_avg_3</th>\n",
       "      <th>inv_dc_power_string01_avg_4</th>\n",
       "      <th>inv_dc_power_string01_avg_5</th>\n",
       "      <th>inv_dc_power_string01_avg_6</th>\n",
       "      <th>inv_dc_power_string01_avg_7</th>\n",
       "      <th>inv_dc_power_string01_avg_8</th>\n",
       "      <th>...</th>\n",
       "      <th>inv_dc_power_avg_30</th>\n",
       "      <th>inv_dc_power_avg_31</th>\n",
       "      <th>inv_dc_power_avg_32</th>\n",
       "      <th>inv_dc_power_avg_33</th>\n",
       "      <th>inv_dc_power_avg_34</th>\n",
       "      <th>inv_dc_power_avg_35</th>\n",
       "      <th>inv_dc_power_avg_36</th>\n",
       "      <th>inv_dc_power_avg_37</th>\n",
       "      <th>inv_dc_power_avg_38</th>\n",
       "      <th>inv_dc_power_avg_39</th>\n",
       "    </tr>\n",
       "    <tr>\n",
       "      <th>tmstamp</th>\n",
       "      <th></th>\n",
       "      <th></th>\n",
       "      <th></th>\n",
       "      <th></th>\n",
       "      <th></th>\n",
       "      <th></th>\n",
       "      <th></th>\n",
       "      <th></th>\n",
       "      <th></th>\n",
       "      <th></th>\n",
       "      <th></th>\n",
       "      <th></th>\n",
       "      <th></th>\n",
       "      <th></th>\n",
       "      <th></th>\n",
       "      <th></th>\n",
       "      <th></th>\n",
       "      <th></th>\n",
       "      <th></th>\n",
       "      <th></th>\n",
       "      <th></th>\n",
       "    </tr>\n",
       "  </thead>\n",
       "  <tbody>\n",
       "    <tr>\n",
       "      <th>2023-11-30 05:57:00-06:00</th>\n",
       "      <td>578388.0</td>\n",
       "      <td>10.33</td>\n",
       "      <td>0.0</td>\n",
       "      <td>0.0</td>\n",
       "      <td>0.0</td>\n",
       "      <td>0.0</td>\n",
       "      <td>0.0</td>\n",
       "      <td>0.0</td>\n",
       "      <td>0.0</td>\n",
       "      <td>0.0</td>\n",
       "      <td>...</td>\n",
       "      <td>0.0</td>\n",
       "      <td>0.0</td>\n",
       "      <td>0.0</td>\n",
       "      <td>0.0</td>\n",
       "      <td>0.0</td>\n",
       "      <td>0.0</td>\n",
       "      <td>0.0</td>\n",
       "      <td>0.0</td>\n",
       "      <td>0.0</td>\n",
       "      <td>0.0</td>\n",
       "    </tr>\n",
       "    <tr>\n",
       "      <th>2023-11-30 05:58:00-06:00</th>\n",
       "      <td>NaN</td>\n",
       "      <td>NaN</td>\n",
       "      <td>NaN</td>\n",
       "      <td>NaN</td>\n",
       "      <td>NaN</td>\n",
       "      <td>NaN</td>\n",
       "      <td>NaN</td>\n",
       "      <td>NaN</td>\n",
       "      <td>NaN</td>\n",
       "      <td>NaN</td>\n",
       "      <td>...</td>\n",
       "      <td>NaN</td>\n",
       "      <td>NaN</td>\n",
       "      <td>NaN</td>\n",
       "      <td>NaN</td>\n",
       "      <td>NaN</td>\n",
       "      <td>NaN</td>\n",
       "      <td>NaN</td>\n",
       "      <td>NaN</td>\n",
       "      <td>NaN</td>\n",
       "      <td>NaN</td>\n",
       "    </tr>\n",
       "    <tr>\n",
       "      <th>2023-11-30 05:59:00-06:00</th>\n",
       "      <td>NaN</td>\n",
       "      <td>NaN</td>\n",
       "      <td>NaN</td>\n",
       "      <td>NaN</td>\n",
       "      <td>NaN</td>\n",
       "      <td>NaN</td>\n",
       "      <td>NaN</td>\n",
       "      <td>NaN</td>\n",
       "      <td>NaN</td>\n",
       "      <td>NaN</td>\n",
       "      <td>...</td>\n",
       "      <td>NaN</td>\n",
       "      <td>NaN</td>\n",
       "      <td>NaN</td>\n",
       "      <td>NaN</td>\n",
       "      <td>NaN</td>\n",
       "      <td>NaN</td>\n",
       "      <td>NaN</td>\n",
       "      <td>NaN</td>\n",
       "      <td>NaN</td>\n",
       "      <td>NaN</td>\n",
       "    </tr>\n",
       "    <tr>\n",
       "      <th>2023-11-30 06:00:00-06:00</th>\n",
       "      <td>NaN</td>\n",
       "      <td>NaN</td>\n",
       "      <td>NaN</td>\n",
       "      <td>NaN</td>\n",
       "      <td>NaN</td>\n",
       "      <td>NaN</td>\n",
       "      <td>NaN</td>\n",
       "      <td>NaN</td>\n",
       "      <td>NaN</td>\n",
       "      <td>NaN</td>\n",
       "      <td>...</td>\n",
       "      <td>NaN</td>\n",
       "      <td>NaN</td>\n",
       "      <td>NaN</td>\n",
       "      <td>NaN</td>\n",
       "      <td>NaN</td>\n",
       "      <td>NaN</td>\n",
       "      <td>NaN</td>\n",
       "      <td>NaN</td>\n",
       "      <td>NaN</td>\n",
       "      <td>NaN</td>\n",
       "    </tr>\n",
       "    <tr>\n",
       "      <th>2023-11-30 06:01:00-06:00</th>\n",
       "      <td>NaN</td>\n",
       "      <td>NaN</td>\n",
       "      <td>NaN</td>\n",
       "      <td>NaN</td>\n",
       "      <td>NaN</td>\n",
       "      <td>NaN</td>\n",
       "      <td>NaN</td>\n",
       "      <td>NaN</td>\n",
       "      <td>NaN</td>\n",
       "      <td>NaN</td>\n",
       "      <td>...</td>\n",
       "      <td>NaN</td>\n",
       "      <td>NaN</td>\n",
       "      <td>NaN</td>\n",
       "      <td>NaN</td>\n",
       "      <td>NaN</td>\n",
       "      <td>NaN</td>\n",
       "      <td>NaN</td>\n",
       "      <td>NaN</td>\n",
       "      <td>NaN</td>\n",
       "      <td>NaN</td>\n",
       "    </tr>\n",
       "  </tbody>\n",
       "</table>\n",
       "<p>5 rows × 239 columns</p>\n",
       "</div>"
      ],
      "text/plain": [
       "                             recnum  bom_temp_c_avg  \\\n",
       "tmstamp                                               \n",
       "2023-11-30 05:57:00-06:00  578388.0           10.33   \n",
       "2023-11-30 05:58:00-06:00       NaN             NaN   \n",
       "2023-11-30 05:59:00-06:00       NaN             NaN   \n",
       "2023-11-30 06:00:00-06:00       NaN             NaN   \n",
       "2023-11-30 06:01:00-06:00       NaN             NaN   \n",
       "\n",
       "                           inv_dc_power_string01_avg_1  \\\n",
       "tmstamp                                                  \n",
       "2023-11-30 05:57:00-06:00                          0.0   \n",
       "2023-11-30 05:58:00-06:00                          NaN   \n",
       "2023-11-30 05:59:00-06:00                          NaN   \n",
       "2023-11-30 06:00:00-06:00                          NaN   \n",
       "2023-11-30 06:01:00-06:00                          NaN   \n",
       "\n",
       "                           inv_dc_power_string01_avg_2  \\\n",
       "tmstamp                                                  \n",
       "2023-11-30 05:57:00-06:00                          0.0   \n",
       "2023-11-30 05:58:00-06:00                          NaN   \n",
       "2023-11-30 05:59:00-06:00                          NaN   \n",
       "2023-11-30 06:00:00-06:00                          NaN   \n",
       "2023-11-30 06:01:00-06:00                          NaN   \n",
       "\n",
       "                           inv_dc_power_string01_avg_3  \\\n",
       "tmstamp                                                  \n",
       "2023-11-30 05:57:00-06:00                          0.0   \n",
       "2023-11-30 05:58:00-06:00                          NaN   \n",
       "2023-11-30 05:59:00-06:00                          NaN   \n",
       "2023-11-30 06:00:00-06:00                          NaN   \n",
       "2023-11-30 06:01:00-06:00                          NaN   \n",
       "\n",
       "                           inv_dc_power_string01_avg_4  \\\n",
       "tmstamp                                                  \n",
       "2023-11-30 05:57:00-06:00                          0.0   \n",
       "2023-11-30 05:58:00-06:00                          NaN   \n",
       "2023-11-30 05:59:00-06:00                          NaN   \n",
       "2023-11-30 06:00:00-06:00                          NaN   \n",
       "2023-11-30 06:01:00-06:00                          NaN   \n",
       "\n",
       "                           inv_dc_power_string01_avg_5  \\\n",
       "tmstamp                                                  \n",
       "2023-11-30 05:57:00-06:00                          0.0   \n",
       "2023-11-30 05:58:00-06:00                          NaN   \n",
       "2023-11-30 05:59:00-06:00                          NaN   \n",
       "2023-11-30 06:00:00-06:00                          NaN   \n",
       "2023-11-30 06:01:00-06:00                          NaN   \n",
       "\n",
       "                           inv_dc_power_string01_avg_6  \\\n",
       "tmstamp                                                  \n",
       "2023-11-30 05:57:00-06:00                          0.0   \n",
       "2023-11-30 05:58:00-06:00                          NaN   \n",
       "2023-11-30 05:59:00-06:00                          NaN   \n",
       "2023-11-30 06:00:00-06:00                          NaN   \n",
       "2023-11-30 06:01:00-06:00                          NaN   \n",
       "\n",
       "                           inv_dc_power_string01_avg_7  \\\n",
       "tmstamp                                                  \n",
       "2023-11-30 05:57:00-06:00                          0.0   \n",
       "2023-11-30 05:58:00-06:00                          NaN   \n",
       "2023-11-30 05:59:00-06:00                          NaN   \n",
       "2023-11-30 06:00:00-06:00                          NaN   \n",
       "2023-11-30 06:01:00-06:00                          NaN   \n",
       "\n",
       "                           inv_dc_power_string01_avg_8  ...  \\\n",
       "tmstamp                                                 ...   \n",
       "2023-11-30 05:57:00-06:00                          0.0  ...   \n",
       "2023-11-30 05:58:00-06:00                          NaN  ...   \n",
       "2023-11-30 05:59:00-06:00                          NaN  ...   \n",
       "2023-11-30 06:00:00-06:00                          NaN  ...   \n",
       "2023-11-30 06:01:00-06:00                          NaN  ...   \n",
       "\n",
       "                           inv_dc_power_avg_30  inv_dc_power_avg_31  \\\n",
       "tmstamp                                                               \n",
       "2023-11-30 05:57:00-06:00                  0.0                  0.0   \n",
       "2023-11-30 05:58:00-06:00                  NaN                  NaN   \n",
       "2023-11-30 05:59:00-06:00                  NaN                  NaN   \n",
       "2023-11-30 06:00:00-06:00                  NaN                  NaN   \n",
       "2023-11-30 06:01:00-06:00                  NaN                  NaN   \n",
       "\n",
       "                           inv_dc_power_avg_32  inv_dc_power_avg_33  \\\n",
       "tmstamp                                                               \n",
       "2023-11-30 05:57:00-06:00                  0.0                  0.0   \n",
       "2023-11-30 05:58:00-06:00                  NaN                  NaN   \n",
       "2023-11-30 05:59:00-06:00                  NaN                  NaN   \n",
       "2023-11-30 06:00:00-06:00                  NaN                  NaN   \n",
       "2023-11-30 06:01:00-06:00                  NaN                  NaN   \n",
       "\n",
       "                           inv_dc_power_avg_34  inv_dc_power_avg_35  \\\n",
       "tmstamp                                                               \n",
       "2023-11-30 05:57:00-06:00                  0.0                  0.0   \n",
       "2023-11-30 05:58:00-06:00                  NaN                  NaN   \n",
       "2023-11-30 05:59:00-06:00                  NaN                  NaN   \n",
       "2023-11-30 06:00:00-06:00                  NaN                  NaN   \n",
       "2023-11-30 06:01:00-06:00                  NaN                  NaN   \n",
       "\n",
       "                           inv_dc_power_avg_36  inv_dc_power_avg_37  \\\n",
       "tmstamp                                                               \n",
       "2023-11-30 05:57:00-06:00                  0.0                  0.0   \n",
       "2023-11-30 05:58:00-06:00                  NaN                  NaN   \n",
       "2023-11-30 05:59:00-06:00                  NaN                  NaN   \n",
       "2023-11-30 06:00:00-06:00                  NaN                  NaN   \n",
       "2023-11-30 06:01:00-06:00                  NaN                  NaN   \n",
       "\n",
       "                           inv_dc_power_avg_38  inv_dc_power_avg_39  \n",
       "tmstamp                                                              \n",
       "2023-11-30 05:57:00-06:00                  0.0                  0.0  \n",
       "2023-11-30 05:58:00-06:00                  NaN                  NaN  \n",
       "2023-11-30 05:59:00-06:00                  NaN                  NaN  \n",
       "2023-11-30 06:00:00-06:00                  NaN                  NaN  \n",
       "2023-11-30 06:01:00-06:00                  NaN                  NaN  \n",
       "\n",
       "[5 rows x 239 columns]"
      ]
     },
     "execution_count": 106,
     "metadata": {},
     "output_type": "execute_result"
    }
   ],
   "source": [
    "\"\"\"\n",
    "using f select we can name a table and pull that table from the database\n",
    "the lines at the bottom replace those numerical tag ids with the str description\n",
    "\"\"\"\n",
    "\n",
    "table_name = 'dbo.Draker_OneMinINVDC02' #--------------------------> define the table here\n",
    "start = '2023-11-30 00:00:00'\n",
    "end = '2023-12-02 00:00:00'\n",
    "\n",
    "\n",
    "lasel_cursor.execute(f\"select * from {table_name} where TmStamp between '{start}' and '{end}';\")\n",
    "data = []\n",
    "for row in lasel_cursor:\n",
    "    data.append(row)\n",
    "num_fields = len(lasel_cursor.description)\n",
    "field_names = ([i[0] for i in lasel_cursor.description])\n",
    "df = pd.DataFrame(data, columns=[field_names])\n",
    "df.columns = df.columns.get_level_values(0)\n",
    "df.index = pd.to_datetime(df['tmstamp'])\n",
    "df.index = df.index.tz_localize('America/Chicago', ambiguous='infer')\n",
    "df = df.resample('T').mean()\n",
    "\n",
    "df.head()"
   ]
  },
  {
   "cell_type": "code",
   "execution_count": 110,
   "id": "7f433fb3-a544-48c3-8b77-52242f7faae8",
   "metadata": {},
   "outputs": [
    {
     "data": {
      "text/plain": [
       "(28355397.0, 28356117.0)"
      ]
     },
     "execution_count": 110,
     "metadata": {},
     "output_type": "execute_result"
    },
    {
     "data": {
      "image/png": "[encoded data removed]",
      "text/plain": [
       "<Figure size 640x480 with 1 Axes>"
      ]
     },
     "metadata": {},
     "output_type": "display_data"
    }
   ],
   "source": [
    "df['inv_dc_power_avg_10'].plot()\n",
    "plt.xlim('2023-11-30 05:57:00-06:00','2023-11-30 17:57:00-06:00')"
   ]
  },
  {
   "cell_type": "code",
   "execution_count": 12,
   "id": "b250e873-c038-43c6-9742-3e5e267df37e",
   "metadata": {},
   "outputs": [],
   "source": [
    "\"\"\"\n",
    "if the data is going to be needed continually, converting it to a csv and storing locally may save time\n",
    "reading from the sql database can sometimes take a while, depending on the length of the table \n",
    "if the file is large, it can be saved to different compressed types, like hdf or pkl\n",
    "\"\"\"\n",
    "df_float_min.to_csv(table_name+'_onemin.csv')\n"
   ]
  }
 ],
 "metadata": {
  "kernelspec": {
   "display_name": "Python 3 (ipykernel)",
   "language": "python",
   "name": "python3"
  },
  "language_info": {
   "codemirror_mode": {
    "name": "ipython",
    "version": 3
   },
   "file_extension": ".py",
   "mimetype": "text/x-python",
   "name": "python",
   "nbconvert_exporter": "python",
   "pygments_lexer": "ipython3",
   "version": "3.10.4"
  }
 },
 "nbformat": 4,
 "nbformat_minor": 5
}
